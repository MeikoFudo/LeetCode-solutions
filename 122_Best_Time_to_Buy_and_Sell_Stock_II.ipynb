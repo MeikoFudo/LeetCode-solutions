{
  "nbformat": 4,
  "nbformat_minor": 0,
  "metadata": {
    "colab": {
      "provenance": [],
      "authorship_tag": "ABX9TyMBbhqj6CqHM2s3hpDoDKAP",
      "include_colab_link": true
    },
    "kernelspec": {
      "name": "python3",
      "display_name": "Python 3"
    },
    "language_info": {
      "name": "python"
    }
  },
  "cells": [
    {
      "cell_type": "markdown",
      "metadata": {
        "id": "view-in-github",
        "colab_type": "text"
      },
      "source": [
        "<a href=\"https://colab.research.google.com/github/MeikoFudo/LeetCode-solutions/blob/main/122_Best_Time_to_Buy_and_Sell_Stock_II.ipynb\" target=\"_parent\"><img src=\"https://colab.research.google.com/assets/colab-badge.svg\" alt=\"Open In Colab\"/></a>"
      ]
    },
    {
      "cell_type": "code",
      "execution_count": null,
      "metadata": {
        "id": "r2QU-JbsAqvJ"
      },
      "outputs": [],
      "source": [
        "class Solution(object):\n",
        "    def maxProfit(self, prices):\n",
        "        \"\"\"\n",
        "        :type prices: List[int]\n",
        "        :rtype: int\n",
        "        \"\"\"\n",
        "        max_profit = 0\n",
        "\n",
        "        for i in range(1, len(prices)):\n",
        "            if prices[i] > prices[i - 1]:\n",
        "                max_profit += prices[i] - prices[i - 1]\n",
        "\n",
        "        return max_profit\n"
      ]
    },
    {
      "cell_type": "markdown",
      "source": [
        "\n",
        "You are given an integer array prices where prices[i] is the price of a given stock on the ith day.\n",
        "\n",
        "On each day, you may decide to buy and/or sell the stock. You can only hold at most one share of the stock at any time. However, you can buy it then immediately sell it on the same day.\n",
        "\n",
        "Find and return the maximum profit you can achieve."
      ],
      "metadata": {
        "id": "j-RPHZnx_oH9"
      }
    }
  ]
}