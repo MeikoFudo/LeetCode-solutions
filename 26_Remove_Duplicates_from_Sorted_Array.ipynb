{
  "nbformat": 4,
  "nbformat_minor": 0,
  "metadata": {
    "colab": {
      "provenance": [],
      "authorship_tag": "ABX9TyOH9J709T6ayNsv9tl+pUHl",
      "include_colab_link": true
    },
    "kernelspec": {
      "name": "python3",
      "display_name": "Python 3"
    },
    "language_info": {
      "name": "python"
    }
  },
  "cells": [
    {
      "cell_type": "markdown",
      "metadata": {
        "id": "view-in-github",
        "colab_type": "text"
      },
      "source": [
        "<a href=\"https://colab.research.google.com/github/MeikoFudo/LeetCode-solutions/blob/main/26_Remove_Duplicates_from_Sorted_Array.ipynb\" target=\"_parent\"><img src=\"https://colab.research.google.com/assets/colab-badge.svg\" alt=\"Open In Colab\"/></a>"
      ]
    },
    {
      "cell_type": "code",
      "execution_count": null,
      "metadata": {
        "id": "r2QU-JbsAqvJ"
      },
      "outputs": [],
      "source": [
        "class Solution(object):\n",
        "    def removeDuplicates(self, nums):\n",
        "        \"\"\"\n",
        "        :type nums: List[int]\n",
        "        :rtype: int\n",
        "        \"\"\"\n",
        "        if not nums:\n",
        "            return 0\n",
        "\n",
        "        k = 1\n",
        "        for i in range(1, len(nums)):\n",
        "            if nums[i] != nums[i - 1]:\n",
        "                nums[k] = nums[i]\n",
        "                k += 1\n",
        "\n",
        "        return k"
      ]
    },
    {
      "cell_type": "markdown",
      "source": [
        "Given an integer array nums sorted in non-decreasing order, remove the duplicates in-place such that each unique element appears only once. The relative order of the elements should be kept the same. Then return the number of unique elements in nums.\n",
        "\n",
        "Consider the number of unique elements of nums to be k, to get accepted, you need to do the following things:\n",
        "\n",
        "Change the array nums such that the first k elements of nums contain the unique elements in the order they were present in nums initially. The remaining elements of nums are not important as well as the size of nums.\n",
        "Return k."
      ],
      "metadata": {
        "id": "j-RPHZnx_oH9"
      }
    }
  ]
}