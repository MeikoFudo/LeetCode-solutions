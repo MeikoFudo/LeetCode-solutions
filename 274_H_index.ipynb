{
  "nbformat": 4,
  "nbformat_minor": 0,
  "metadata": {
    "colab": {
      "provenance": [],
      "authorship_tag": "ABX9TyOd+zVhw4xhQbYRpE0d5tmw",
      "include_colab_link": true
    },
    "kernelspec": {
      "name": "python3",
      "display_name": "Python 3"
    },
    "language_info": {
      "name": "python"
    }
  },
  "cells": [
    {
      "cell_type": "markdown",
      "metadata": {
        "id": "view-in-github",
        "colab_type": "text"
      },
      "source": [
        "<a href=\"https://colab.research.google.com/github/MeikoFudo/LeetCode-solutions/blob/main/274_H_index.ipynb\" target=\"_parent\"><img src=\"https://colab.research.google.com/assets/colab-badge.svg\" alt=\"Open In Colab\"/></a>"
      ]
    },
    {
      "cell_type": "code",
      "execution_count": null,
      "metadata": {
        "id": "r2QU-JbsAqvJ"
      },
      "outputs": [],
      "source": [
        "class Solution(object):\n",
        "    def hIndex(self, citations):\n",
        "        \"\"\"\n",
        "        :type citations: List[int]\n",
        "        :rtype: int\n",
        "        \"\"\"\n",
        "        citations.sort(reverse=True)\n",
        "        h_index = 0\n",
        "        for i in range(len(citations)):\n",
        "            if citations[i] >= i + 1:\n",
        "                h_index = i + 1\n",
        "        return h_index\n"
      ]
    },
    {
      "cell_type": "markdown",
      "source": [
        "Given an array of integers citations where citations[i] is the number of citations a researcher received for their ith paper, return the researcher's h-index.\n",
        "\n",
        "According to the definition of h-index on Wikipedia: The h-index is defined as the maximum value of h such that the given researcher has published at least h papers that have each been cited at least h times.\n",
        "\n",
        ""
      ],
      "metadata": {
        "id": "j-RPHZnx_oH9"
      }
    }
  ]
}