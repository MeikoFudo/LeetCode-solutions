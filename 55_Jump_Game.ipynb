{
  "nbformat": 4,
  "nbformat_minor": 0,
  "metadata": {
    "colab": {
      "provenance": [],
      "authorship_tag": "ABX9TyO+IZmIdzTu4JNY5z3Sn7in",
      "include_colab_link": true
    },
    "kernelspec": {
      "name": "python3",
      "display_name": "Python 3"
    },
    "language_info": {
      "name": "python"
    }
  },
  "cells": [
    {
      "cell_type": "markdown",
      "metadata": {
        "id": "view-in-github",
        "colab_type": "text"
      },
      "source": [
        "<a href=\"https://colab.research.google.com/github/MeikoFudo/LeetCode-solutions/blob/main/55_Jump_Game.ipynb\" target=\"_parent\"><img src=\"https://colab.research.google.com/assets/colab-badge.svg\" alt=\"Open In Colab\"/></a>"
      ]
    },
    {
      "cell_type": "code",
      "execution_count": null,
      "metadata": {
        "id": "r2QU-JbsAqvJ"
      },
      "outputs": [],
      "source": [
        "class Solution(object):\n",
        "    def canJump(self, nums):\n",
        "        \"\"\"\n",
        "        :type nums: List[int]\n",
        "        :rtype: bool\n",
        "        \"\"\"\n",
        "        max_reach = 0\n",
        "        for i, jump in enumerate(nums):\n",
        "            if i > max_reach:\n",
        "                return False\n",
        "            max_reach = max(max_reach, i + jump)\n",
        "        return True\n",
        ""
      ]
    },
    {
      "cell_type": "markdown",
      "source": [
        "You are given an integer array nums. You are initially positioned at the array's first index, and each element in the array represents your maximum jump length at that position.\n",
        "\n",
        "Return true if you can reach the last index, or false otherwise."
      ],
      "metadata": {
        "id": "j-RPHZnx_oH9"
      }
    }
  ]
}