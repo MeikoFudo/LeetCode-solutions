{
  "nbformat": 4,
  "nbformat_minor": 0,
  "metadata": {
    "colab": {
      "provenance": [],
      "authorship_tag": "ABX9TyNbOZvzNlTfE+ktxj6HxaOu",
      "include_colab_link": true
    },
    "kernelspec": {
      "name": "python3",
      "display_name": "Python 3"
    },
    "language_info": {
      "name": "python"
    }
  },
  "cells": [
    {
      "cell_type": "markdown",
      "metadata": {
        "id": "view-in-github",
        "colab_type": "text"
      },
      "source": [
        "<a href=\"https://colab.research.google.com/github/MeikoFudo/LeetCode-solutions/blob/main/680_Valid_Palindrome_II.ipynb\" target=\"_parent\"><img src=\"https://colab.research.google.com/assets/colab-badge.svg\" alt=\"Open In Colab\"/></a>"
      ]
    },
    {
      "cell_type": "markdown",
      "source": [
        "Given a string s, return true if the s can be palindrome after deleting at most one character from it."
      ],
      "metadata": {
        "id": "eJp0Ks0c_Gl_"
      }
    },
    {
      "cell_type": "code",
      "execution_count": null,
      "metadata": {
        "id": "MxIN6PvE-5id"
      },
      "outputs": [],
      "source": [
        "class Solution:\n",
        "    def validPalindrome(self, s: str) -> bool:\n",
        "        def is_palindrome(s):\n",
        "            filtered_str = ''.join(c.lower() for c in s if c.isalnum())\n",
        "            return filtered_str == filtered_str[::-1]\n",
        "\n",
        "        for i in range(len(s)):\n",
        "            new_str = s[:i] + s[i+1:]\n",
        "            if is_palindrome(new_str):\n",
        "                return True\n",
        "        return False\n"
      ]
    }
  ]
}