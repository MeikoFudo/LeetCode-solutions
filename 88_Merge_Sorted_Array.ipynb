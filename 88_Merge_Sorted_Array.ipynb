{
  "nbformat": 4,
  "nbformat_minor": 0,
  "metadata": {
    "colab": {
      "provenance": [],
      "authorship_tag": "ABX9TyMbDl+zgiGSyTDUVEkd+NWl",
      "include_colab_link": true
    },
    "kernelspec": {
      "name": "python3",
      "display_name": "Python 3"
    },
    "language_info": {
      "name": "python"
    }
  },
  "cells": [
    {
      "cell_type": "markdown",
      "metadata": {
        "id": "view-in-github",
        "colab_type": "text"
      },
      "source": [
        "<a href=\"https://colab.research.google.com/github/MeikoFudo/LeetCode-solutions/blob/main/88_Merge_Sorted_Array.ipynb\" target=\"_parent\"><img src=\"https://colab.research.google.com/assets/colab-badge.svg\" alt=\"Open In Colab\"/></a>"
      ]
    },
    {
      "cell_type": "code",
      "execution_count": null,
      "metadata": {
        "id": "r2QU-JbsAqvJ"
      },
      "outputs": [],
      "source": [
        "class Solution(object):\n",
        "    def merge(self, nums1, m, nums2, n):\n",
        "        \"\"\"\n",
        "        :type nums1: List[int]\n",
        "        :type m: int\n",
        "        :type nums2: List[int]\n",
        "        :type n: int\n",
        "        :rtype: None Do not return anything, modify nums1 in-place instead.\n",
        "        \"\"\"\n",
        "        index = 0\n",
        "        for i in range(len(nums1)):\n",
        "            if nums1[i] == 0 and index < n:\n",
        "                nums1[i] = nums2[index]\n",
        "                index += 1\n",
        "\n",
        "        nums1.sort()\n",
        "        return nums1"
      ]
    }
  ]
}